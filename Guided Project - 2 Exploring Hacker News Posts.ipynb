{
 "cells": [
  {
   "cell_type": "markdown",
   "metadata": {},
   "source": [
    "# Exploring Hacker News Posts\n",
    "\n",
    "In this project we are going to work with a data set of submissions to popular technology site [Hacker News](HN_posts_year_to_Sep_26_2016.csv).\n",
    "\n",
    "Hacker News is a site started by the startup incubator Y Combinator, where user-submitted stories (known as \"posts\") are voted and commented upon, similar to reddit. Hacker News is extremely popular in technology and startup circles, and posts that make it to the top of Hacker News' listings can get hundreds of thousands of visitors as a result.\n",
    "\n",
    "You can find the data set [here](https://www.kaggle.com/hacker-news/hacker-news-posts), but note that it has been reduced from almost 300,000 rows to approximately 20,000 rows by removing all submissions that did not receive any comments, and then randomly sampling from the remaining submissions. \n",
    "\n",
    "In this mission, we'll compare 'Ask HN' and 'Show HN' those two types of posts to discover how their numbers of comment related with average numbers of comment as well as the posts' creating date. \n",
    "\n",
    "<br/>\n",
    "<br/>\n",
    "Below are descriptions of the columns:\n",
    "\n",
    "**id**: The unique identifier from Hacker News for the post\n",
    "\n",
    "**title**: The title of the post\n",
    "\n",
    "**url**: The URL that the posts links to, if it the post has a URL\n",
    "\n",
    "**num_points**: The number of points the post acquired, calculated as the total number of upvotes minus the total number of downvotes\n",
    "\n",
    "**num_comments**: The number of comments that were made on the post\n",
    "\n",
    "**author**: The username of the person who submitted the post\n",
    "\n",
    "\n",
    "**created_at**: The date and time at which the post was submitted"
   ]
  },
  {
   "cell_type": "code",
   "execution_count": 60,
   "metadata": {},
   "outputs": [],
   "source": [
    "from csv import reader\n",
    "opened_file = open('HN_posts_year_to_Sep_26_2016.csv/HN_posts_year_to_Sep_26_2016.csv', encoding='utf8')\n",
    "read_file = reader(opened_file)\n",
    "hn = list(read_file)\n",
    "headers = hn[0:1]\n",
    "hn = hn[1:]"
   ]
  },
  {
   "cell_type": "code",
   "execution_count": 61,
   "metadata": {},
   "outputs": [],
   "source": [
    "def explore_data(data_set,start,end):\n",
    "    data_set_slice = data_set[start:end]\n",
    "    for row in data_set_slice:\n",
    "        print(row)\n",
    "        print('\\n')\n",
    "    \n",
    "    print('The Numbers of row: {}'.format(len(data_set)))\n",
    "    print('The numbrts of column: {}'.format(len(data_set[0])))"
   ]
  },
  {
   "cell_type": "code",
   "execution_count": 62,
   "metadata": {},
   "outputs": [
    {
     "name": "stdout",
     "output_type": "stream",
     "text": [
      "[['id', 'title', 'url', 'num_points', 'num_comments', 'author', 'created_at']]\n",
      "\n",
      "\n",
      "['12579008', 'You have two days to comment if you want stem cells to be classified as your own', 'http://www.regulations.gov/document?D=FDA-2015-D-3719-0018', '1', '0', 'altstar', '9/26/2016 3:26']\n",
      "\n",
      "\n",
      "['12579005', 'SQLAR  the SQLite Archiver', 'https://www.sqlite.org/sqlar/doc/trunk/README.md', '1', '0', 'blacksqr', '9/26/2016 3:24']\n",
      "\n",
      "\n",
      "['12578997', 'What if we just printed a flatscreen television on the side of our boxes?', 'https://medium.com/vanmoof/our-secrets-out-f21c1f03fdc8#.ietxmez43', '1', '0', 'pavel_lishin', '9/26/2016 3:19']\n",
      "\n",
      "\n",
      "['12578989', 'algorithmic music', 'http://cacm.acm.org/magazines/2011/7/109891-algorithmic-composition/fulltext', '1', '0', 'poindontcare', '9/26/2016 3:16']\n",
      "\n",
      "\n",
      "['12578979', 'How the Data Vault Enables the Next-Gen Data Warehouse and Data Lake', 'https://www.talend.com/blog/2016/05/12/talend-and-Â\\x93the-data-vaultÂ\\x94', '1', '0', 'markgainor1', '9/26/2016 3:14']\n",
      "\n",
      "\n",
      "The Numbers of row: 293119\n",
      "The numbrts of column: 7\n"
     ]
    }
   ],
   "source": [
    "print(headers)\n",
    "print('\\n')\n",
    "explore_data(hn,0,5)"
   ]
  },
  {
   "cell_type": "code",
   "execution_count": 63,
   "metadata": {},
   "outputs": [],
   "source": [
    "ask_posts = []\n",
    "show_posts = []\n",
    "other_posts = []\n",
    "\n",
    "for row in hn:\n",
    "    title = row[1]\n",
    "    title = title.lower()\n",
    "    if title.startswith('ask hn'):\n",
    "        ask_posts.append(row)\n",
    "    elif title.startswith('show hn'):\n",
    "        show_posts.append(row)\n",
    "    else:\n",
    "        other_posts.append(row)"
   ]
  },
  {
   "cell_type": "code",
   "execution_count": 64,
   "metadata": {},
   "outputs": [
    {
     "name": "stdout",
     "output_type": "stream",
     "text": [
      "9139\n",
      "\n",
      "\n",
      "10158\n",
      "\n",
      "\n",
      "273822\n"
     ]
    }
   ],
   "source": [
    "print(len(ask_posts))\n",
    "print('\\n')\n",
    "print(len(show_posts))\n",
    "print('\\n')\n",
    "print(len(other_posts))"
   ]
  },
  {
   "cell_type": "code",
   "execution_count": 65,
   "metadata": {},
   "outputs": [
    {
     "name": "stdout",
     "output_type": "stream",
     "text": [
      "['12578908', 'Ask HN: What TLD do you use for local development?', '', '4', '7', 'Sevrene', '9/26/2016 2:53']\n",
      "['12578522', 'Ask HN: How do you pass on your work when you die?', '', '6', '3', 'PascLeRasc', '9/26/2016 1:17']\n",
      "['12577908', 'Ask HN: How a DNS problem can be limited to a geographic region?', '', '1', '0', 'kuon', '9/25/2016 22:57']\n",
      "['12577870', 'Ask HN: Why join a fund when you can be an angel?', '', '1', '3', 'anthony_james', '9/25/2016 22:48']\n",
      "['12577647', 'Ask HN: Someone uses stock trading as passive income?', '', '5', '2', '00taffe', '9/25/2016 21:50']\n"
     ]
    }
   ],
   "source": [
    "print(*ask_posts[0:5],sep='\\n')"
   ]
  },
  {
   "cell_type": "code",
   "execution_count": 66,
   "metadata": {},
   "outputs": [
    {
     "name": "stdout",
     "output_type": "stream",
     "text": [
      "['12578335', 'Show HN: Finding puns computationally', 'http://puns.samueltaylor.org/', '2', '0', 'saamm', '9/26/2016 0:36']\n",
      "['12578182', 'Show HN: A simple library for complicated animations', 'https://christinecha.github.io/choreographer-js/', '1', '0', 'christinecha', '9/26/2016 0:01']\n",
      "['12578098', 'Show HN: WebGL visualization of DNA sequences', 'http://grondilu.github.io/dna.html', '1', '0', 'grondilu', '9/25/2016 23:44']\n",
      "['12577991', 'Show HN: Pomodoro-centric, heirarchical project management with ES6 modules', 'https://github.com/jakebian/zeal', '2', '0', 'dbranes', '9/25/2016 23:17']\n",
      "['12577142', 'Show HN: Jumble  Essays on the go #PaulInYourPocket', 'https://itunes.apple.com/us/app/jumble-find-startup-essay/id1150939197?ls=1&mt=8', '1', '1', 'ryderj', '9/25/2016 20:06']\n"
     ]
    }
   ],
   "source": [
    "print(*show_posts[0:5],sep='\\n')"
   ]
  },
  {
   "cell_type": "markdown",
   "metadata": {},
   "source": [
    "Function to work out the average number of costs for data set"
   ]
  },
  {
   "cell_type": "code",
   "execution_count": 67,
   "metadata": {},
   "outputs": [],
   "source": [
    "def average_num_post(data_set):\n",
    "    total_comments = 0\n",
    "    for row in data_set:\n",
    "        num_comments = int(row[4])\n",
    "        total_comments  += num_comments\n",
    "    avg_comments = total_comments / len(data_set)\n",
    "    return 'Average number of comments is: {:.2f}'.format(avg_comments)\n",
    "    "
   ]
  },
  {
   "cell_type": "markdown",
   "metadata": {},
   "source": [
    "Compute the number of comments for 'ask_post'"
   ]
  },
  {
   "cell_type": "code",
   "execution_count": 68,
   "metadata": {},
   "outputs": [
    {
     "data": {
      "text/plain": [
       "'Average number of comments is: 10.39'"
      ]
     },
     "execution_count": 68,
     "metadata": {},
     "output_type": "execute_result"
    }
   ],
   "source": [
    "average_num_post(ask_posts)"
   ]
  },
  {
   "cell_type": "markdown",
   "metadata": {},
   "source": [
    "Compute the average number of comments for 'show_post'"
   ]
  },
  {
   "cell_type": "code",
   "execution_count": 69,
   "metadata": {},
   "outputs": [
    {
     "data": {
      "text/plain": [
       "'Average number of comments is: 4.89'"
      ]
     },
     "execution_count": 69,
     "metadata": {},
     "output_type": "execute_result"
    }
   ],
   "source": [
    "average_num_post(show_posts)"
   ]
  },
  {
   "cell_type": "markdown",
   "metadata": {},
   "source": [
    "Compute the average number of comments for 'other_posts'"
   ]
  },
  {
   "cell_type": "code",
   "execution_count": 70,
   "metadata": {},
   "outputs": [
    {
     "data": {
      "text/plain": [
       "'Average number of comments is: 6.46'"
      ]
     },
     "execution_count": 70,
     "metadata": {},
     "output_type": "execute_result"
    }
   ],
   "source": [
    "average_num_post(other_posts)"
   ]
  },
  {
   "cell_type": "markdown",
   "metadata": {},
   "source": [
    "\n",
    "After calculate the avearge number of comments for 'ask_post', 'show_post' and the whole data set 'hn', we can see the average number of comments for 'hn' (the whole data set) is *6.46* which is between 'ask_post'(*10.39* - the highest) and  'show_post'(*4.89*)"
   ]
  },
  {
   "cell_type": "markdown",
   "metadata": {},
   "source": [
    "Next, we'll determine if ask posts created at a certain time are more likely to attract comments. We'll use the following steps to perform this analysis:\n",
    "\n",
    "Calculate the amount of \"**ask posts**\" created in each hour of the day, along with the number of comments received."
   ]
  },
  {
   "cell_type": "code",
   "execution_count": 115,
   "metadata": {},
   "outputs": [],
   "source": [
    "import datetime as dt"
   ]
  },
  {
   "cell_type": "code",
   "execution_count": 72,
   "metadata": {},
   "outputs": [],
   "source": [
    "result_list = []\n",
    "\n",
    "for row in ask_posts:\n",
    "    sub_list = []\n",
    "    \n",
    "    create_time = row[6]\n",
    "    sub_list.append(create_time)\n",
    "    \n",
    "    num_comments = int(row[4])\n",
    "    sub_list.append(num_comments)\n",
    "    \n",
    "    result_list.append(sub_list)"
   ]
  },
  {
   "cell_type": "code",
   "execution_count": 82,
   "metadata": {},
   "outputs": [
    {
     "data": {
      "text/plain": [
       "[['9/26/2016 2:53', 7],\n",
       " ['9/26/2016 1:17', 3],\n",
       " ['9/25/2016 22:57', 0],\n",
       " ['9/25/2016 22:48', 3],\n",
       " ['9/25/2016 21:50', 2],\n",
       " ['9/25/2016 19:30', 1],\n",
       " ['9/25/2016 19:22', 22],\n",
       " ['9/25/2016 17:55', 3],\n",
       " ['9/25/2016 15:48', 0],\n",
       " ['9/25/2016 15:35', 13]]"
      ]
     },
     "execution_count": 82,
     "metadata": {},
     "output_type": "execute_result"
    }
   ],
   "source": [
    "result_list[0:10]"
   ]
  },
  {
   "cell_type": "code",
   "execution_count": 80,
   "metadata": {},
   "outputs": [
    {
     "data": {
      "text/plain": [
       "9139"
      ]
     },
     "execution_count": 80,
     "metadata": {},
     "output_type": "execute_result"
    }
   ],
   "source": [
    "len(result_list)"
   ]
  },
  {
   "cell_type": "code",
   "execution_count": 81,
   "metadata": {},
   "outputs": [
    {
     "data": {
      "text/plain": [
       "[['9/6/2015 15:09', 0],\n",
       " ['9/6/2015 14:53', 6],\n",
       " ['9/6/2015 13:01', 9],\n",
       " ['9/6/2015 12:17', 0],\n",
       " ['9/6/2015 11:27', 0],\n",
       " ['9/6/2015 10:52', 1],\n",
       " ['9/6/2015 10:46', 4],\n",
       " ['9/6/2015 9:36', 20],\n",
       " ['9/6/2015 6:02', 20]]"
      ]
     },
     "execution_count": 81,
     "metadata": {},
     "output_type": "execute_result"
    }
   ],
   "source": [
    "result_list[9130:]"
   ]
  },
  {
   "cell_type": "code",
   "execution_count": 160,
   "metadata": {
    "scrolled": true
   },
   "outputs": [
    {
     "name": "stdout",
     "output_type": "stream",
     "text": [
      "{'02': 269, '01': 282, '22': 383, '21': 518, '19': 552, '17': 587, '15': 646, '14': 513, '13': 444, '11': 312, '10': 282, '09': 222, '07': 226, '03': 271, '23': 343, '20': 510, '16': 579, '08': 257, '00': 301, '18': 614, '12': 342, '04': 243, '06': 234, '05': 209}\n",
      "\n",
      "\n",
      "{'02': 2996, '01': 2089, '22': 3372, '21': 4500, '19': 3954, '17': 5547, '15': 18525, '14': 4972, '13': 7245, '11': 2797, '10': 3013, '09': 1477, '07': 1585, '03': 2154, '23': 2297, '20': 4462, '16': 4466, '08': 2362, '00': 2277, '18': 4877, '12': 4234, '04': 2360, '06': 1587, '05': 1838}\n"
     ]
    }
   ],
   "source": [
    "\n",
    "counts_by_hour = {}\n",
    "comments_by_hour = {}\n",
    "\n",
    "for row in result_list:\n",
    "    the_date = row[0]\n",
    "    num_comments = row[1]\n",
    "    \n",
    "    the_date_object = dt.datetime.strptime(the_date, '%m/%d/%Y %H:%M')\n",
    "    the_hour_object = the_date_object.strftime('%H')\n",
    "\n",
    "    if the_hour_object not in counts_by_hour:\n",
    "        counts_by_hour[the_hour_object] = 1\n",
    "        comments_by_hour[the_hour_object] = num_comments\n",
    "    else:\n",
    "        counts_by_hour[the_hour_object] += 1\n",
    "        comments_by_hour[the_hour_object] += num_comments\n",
    "\n",
    "\"\"\"    \n",
    "    if the_hour_object not in counts_by_hour:\n",
    "        counts_by_hour[the_hour_object] = 1\n",
    "    else:\n",
    "        counts_by_hour[the_hour_object] += 1\n",
    "    \n",
    "    if the_hour_object not in comments_by_hour:\n",
    "        comments_by_hour[the_hour_object] = num_comments\n",
    "    else:\n",
    "        comments_by_hour[the_hour_object] += num_comments\n",
    "\"\"\"        \n",
    "        \n",
    "print(counts_by_hour)\n",
    "print('\\n')\n",
    "print(comments_by_hour)\n",
    "\n"
   ]
  },
  {
   "cell_type": "code",
   "execution_count": 75,
   "metadata": {},
   "outputs": [
    {
     "name": "stdout",
     "output_type": "stream",
     "text": [
      "<class 'int'>\n"
     ]
    }
   ],
   "source": [
    "print(type(counts_by_hour['02']))"
   ]
  },
  {
   "cell_type": "markdown",
   "metadata": {},
   "source": [
    "Next, we'll use these two dictionaries to calculate the average number of comments for posts created during each hour of the day."
   ]
  },
  {
   "cell_type": "code",
   "execution_count": 76,
   "metadata": {},
   "outputs": [],
   "source": [
    "avg_by_hour = []\n",
    "for count in counts_by_hour:\n",
    "    for comment in comments_by_hour:\n",
    "        average = 0\n",
    "        if count == comment:\n",
    "            average =  comments_by_hour[comment] / counts_by_hour[count]\n",
    "            sub_list = [count, average]\n",
    "            avg_by_hour.append(sub_list)\n",
    "\n",
    "        "
   ]
  },
  {
   "cell_type": "code",
   "execution_count": 83,
   "metadata": {},
   "outputs": [
    {
     "data": {
      "text/plain": [
       "[['02', 11.137546468401487],\n",
       " ['01', 7.407801418439717],\n",
       " ['22', 8.804177545691905],\n",
       " ['21', 8.687258687258687],\n",
       " ['19', 7.163043478260869],\n",
       " ['17', 9.449744463373083],\n",
       " ['15', 28.676470588235293],\n",
       " ['14', 9.692007797270955],\n",
       " ['13', 16.31756756756757],\n",
       " ['11', 8.96474358974359],\n",
       " ['10', 10.684397163120567],\n",
       " ['09', 6.653153153153153],\n",
       " ['07', 7.013274336283186],\n",
       " ['03', 7.948339483394834],\n",
       " ['23', 6.696793002915452],\n",
       " ['20', 8.749019607843136],\n",
       " ['16', 7.713298791018998],\n",
       " ['08', 9.190661478599221],\n",
       " ['00', 7.5647840531561465],\n",
       " ['18', 7.94299674267101],\n",
       " ['12', 12.380116959064328],\n",
       " ['04', 9.7119341563786],\n",
       " ['06', 6.782051282051282],\n",
       " ['05', 8.794258373205741]]"
      ]
     },
     "execution_count": 83,
     "metadata": {},
     "output_type": "execute_result"
    }
   ],
   "source": [
    "avg_by_hour"
   ]
  },
  {
   "cell_type": "markdown",
   "metadata": {},
   "source": [
    "we calculated the average number of comments for posts created during each hour of the day, and stored the results in a list of lists named \"avg_by_hour\"\n",
    "\n",
    "Although we now have the results we need, this format makes it hard to identify the hours with the highest values. Let's finish by sorting the list of lists and printing the five highest values in a format that's easier to read."
   ]
  },
  {
   "cell_type": "code",
   "execution_count": 87,
   "metadata": {},
   "outputs": [
    {
     "data": {
      "text/plain": [
       "[(11.137546468401487, '02'),\n",
       " (7.407801418439717, '01'),\n",
       " (8.804177545691905, '22'),\n",
       " (8.687258687258687, '21'),\n",
       " (7.163043478260869, '19'),\n",
       " (9.449744463373083, '17'),\n",
       " (28.676470588235293, '15'),\n",
       " (9.692007797270955, '14'),\n",
       " (16.31756756756757, '13'),\n",
       " (8.96474358974359, '11'),\n",
       " (10.684397163120567, '10'),\n",
       " (6.653153153153153, '09'),\n",
       " (7.013274336283186, '07'),\n",
       " (7.948339483394834, '03'),\n",
       " (6.696793002915452, '23'),\n",
       " (8.749019607843136, '20'),\n",
       " (7.713298791018998, '16'),\n",
       " (9.190661478599221, '08'),\n",
       " (7.5647840531561465, '00'),\n",
       " (7.94299674267101, '18'),\n",
       " (12.380116959064328, '12'),\n",
       " (9.7119341563786, '04'),\n",
       " (6.782051282051282, '06'),\n",
       " (8.794258373205741, '05')]"
      ]
     },
     "execution_count": 87,
     "metadata": {},
     "output_type": "execute_result"
    }
   ],
   "source": [
    "swap_avg_by_hour = []\n",
    "for x in avg_by_hour:\n",
    "    swap_avg_by_hour.append((x[1],x[0]))\n",
    "\n",
    "swap_avg_by_hour"
   ]
  },
  {
   "cell_type": "code",
   "execution_count": 90,
   "metadata": {},
   "outputs": [],
   "source": [
    "swap_avg_by_hour.sort(reverse = True)"
   ]
  },
  {
   "cell_type": "code",
   "execution_count": 92,
   "metadata": {},
   "outputs": [],
   "source": [
    "sorted_swap = swap_avg_by_hour"
   ]
  },
  {
   "cell_type": "code",
   "execution_count": 93,
   "metadata": {},
   "outputs": [
    {
     "data": {
      "text/plain": [
       "[(28.676470588235293, '15'),\n",
       " (16.31756756756757, '13'),\n",
       " (12.380116959064328, '12'),\n",
       " (11.137546468401487, '02'),\n",
       " (10.684397163120567, '10'),\n",
       " (9.7119341563786, '04'),\n",
       " (9.692007797270955, '14'),\n",
       " (9.449744463373083, '17'),\n",
       " (9.190661478599221, '08'),\n",
       " (8.96474358974359, '11'),\n",
       " (8.804177545691905, '22'),\n",
       " (8.794258373205741, '05'),\n",
       " (8.749019607843136, '20'),\n",
       " (8.687258687258687, '21'),\n",
       " (7.948339483394834, '03'),\n",
       " (7.94299674267101, '18'),\n",
       " (7.713298791018998, '16'),\n",
       " (7.5647840531561465, '00'),\n",
       " (7.407801418439717, '01'),\n",
       " (7.163043478260869, '19'),\n",
       " (7.013274336283186, '07'),\n",
       " (6.782051282051282, '06'),\n",
       " (6.696793002915452, '23'),\n",
       " (6.653153153153153, '09')]"
      ]
     },
     "execution_count": 93,
     "metadata": {},
     "output_type": "execute_result"
    }
   ],
   "source": [
    "sorted_swap"
   ]
  },
  {
   "cell_type": "code",
   "execution_count": 125,
   "metadata": {},
   "outputs": [
    {
     "name": "stdout",
     "output_type": "stream",
     "text": [
      "Top 5 Hours for Ask Posts Comments\n",
      "15:00: 28.68 average comments per post\n",
      "13:00: 16.32 average comments per post\n",
      "12:00: 12.38 average comments per post\n",
      "02:00: 11.14 average comments per post\n",
      "10:00: 10.68 average comments per post\n"
     ]
    }
   ],
   "source": [
    "print('Top 5 Hours for Ask Posts Comments')\n",
    "\n",
    "for x in sorted_swap[0:5]:\n",
    "    hour = x[1]\n",
    "    hour = dt.datetime.strptime(hour, '%H')\n",
    "    hour = hour.strftime('%H:%M')\n",
    "    \n",
    "    print('{}: {:.2f} average comments per post'.format(hour,x[0]))\n",
    "    \n",
    "    "
   ]
  },
  {
   "cell_type": "markdown",
   "metadata": {},
   "source": [
    "We have already calculated the amount of \"**ask posts**\" created in each hour of the day, along with the number of comments received.\n",
    "\n",
    "But, we are still going to continue find the information for \"**show posts**\" and \"**other posts**\", so there are duplicate code we need to use to finish our task, we can define a function for this proceess to make it easer for furture use."
   ]
  },
  {
   "cell_type": "code",
   "execution_count": 180,
   "metadata": {},
   "outputs": [],
   "source": [
    "#Funtion to calculate the number of post for top 5 rating hours \n",
    "\n",
    "#calculate the result_list\n",
    "def the_result(post_group):\n",
    "    result_list = []\n",
    "    for row in post_group:\n",
    "        create_time = row[6]\n",
    "        num_comments = int(row[4])\n",
    "        result_list.append((create_time,num_comments))\n",
    "    return counts_comments(result_list)\n",
    "\n",
    "#calculate dictionary for counts_by_hour and comments_by_hour\n",
    "def counts_comments(result_list):\n",
    "    counts_by_hour = {}\n",
    "    comments_by_hour = {}\n",
    "    \n",
    "    for row in result_list:\n",
    "        the_date = row[0]\n",
    "        num_comments = row[1]\n",
    "    \n",
    "        the_date_object = dt.datetime.strptime(the_date, '%m/%d/%Y %H:%M')\n",
    "        the_hour_object = the_date_object.strftime('%H')\n",
    "\n",
    "        if the_hour_object not in counts_by_hour:\n",
    "                counts_by_hour[the_hour_object] = 1\n",
    "                comments_by_hour[the_hour_object] = num_comments\n",
    "        else:\n",
    "                counts_by_hour[the_hour_object] += 1\n",
    "                comments_by_hour[the_hour_object] += num_comments\n",
    "\n",
    "        \n",
    "    return avg_comments(counts_by_hour, comments_by_hour)\n",
    "\n",
    "#calculate the average post for each hour and print out the top 5 rating hour post number\n",
    "def avg_comments(counts_by_hour, comments_by_hour):\n",
    "    avg_by_hour = []\n",
    "    for count in counts_by_hour:\n",
    "        for comment in comments_by_hour:\n",
    "            average = 0\n",
    "            if count == comment:\n",
    "                average = comments_by_hour[comment] / counts_by_hour[count]\n",
    "                avg_by_hour.append((count,average))\n",
    "    \n",
    "    swap_avg_by_hour = []\n",
    "    for x in avg_by_hour:\n",
    "        swap_avg_by_hour.append((x[1],x[0]))\n",
    "    \n",
    "    swap_avg_by_hour.sort(reverse = True)\n",
    "    sorted_swap = swap_avg_by_hour\n",
    "                                \n",
    "    print('Top 5 Hours for Ask Posts Comments')\n",
    "    for x in sorted_swap[0:5]:\n",
    "        hour = x[1]\n",
    "        hour = dt.datetime.strptime(hour, '%H')\n",
    "        hour = hour.strftime('%H:%M')   \n",
    "        print('{}: {:.2f} average comments per post'.format(hour,x[0]))\n",
    "    \n"
   ]
  },
  {
   "cell_type": "markdown",
   "metadata": {},
   "source": [
    "Calculate for 'ask_posts'"
   ]
  },
  {
   "cell_type": "code",
   "execution_count": 182,
   "metadata": {},
   "outputs": [
    {
     "name": "stdout",
     "output_type": "stream",
     "text": [
      "Top 5 Hours for Ask Posts Comments\n",
      "15:00: 28.68 average comments per post\n",
      "13:00: 16.32 average comments per post\n",
      "12:00: 12.38 average comments per post\n",
      "02:00: 11.14 average comments per post\n",
      "10:00: 10.68 average comments per post\n"
     ]
    }
   ],
   "source": [
    "#after run the 'the_result function, return to get average number of comments by each hour \n",
    "the_result(ask_posts) "
   ]
  },
  {
   "cell_type": "markdown",
   "metadata": {},
   "source": [
    "Calculate for 'show_posts'"
   ]
  },
  {
   "cell_type": "code",
   "execution_count": 185,
   "metadata": {},
   "outputs": [
    {
     "name": "stdout",
     "output_type": "stream",
     "text": [
      "Top 5 Hours for Ask Posts Comments\n",
      "12:00: 6.99 average comments per post\n",
      "07:00: 6.68 average comments per post\n",
      "11:00: 6.00 average comments per post\n",
      "08:00: 5.60 average comments per post\n",
      "14:00: 5.52 average comments per post\n"
     ]
    }
   ],
   "source": [
    "#after run the 'the_result function, return to get average number of comments by each hour \n",
    "the_result(show_posts) "
   ]
  },
  {
   "cell_type": "markdown",
   "metadata": {},
   "source": [
    "Calculate for 'other_posts'"
   ]
  },
  {
   "cell_type": "code",
   "execution_count": 186,
   "metadata": {},
   "outputs": [
    {
     "name": "stdout",
     "output_type": "stream",
     "text": [
      "Top 5 Hours for Ask Posts Comments\n",
      "12:00: 7.59 average comments per post\n",
      "11:00: 7.37 average comments per post\n",
      "02:00: 7.18 average comments per post\n",
      "13:00: 7.15 average comments per post\n",
      "05:00: 6.79 average comments per post\n"
     ]
    }
   ],
   "source": [
    "#after run the 'the_result function, return to get average number of comments by each hour \n",
    "the_result(other_posts) "
   ]
  },
  {
   "cell_type": "code",
   "execution_count": null,
   "metadata": {},
   "outputs": [],
   "source": []
  }
 ],
 "metadata": {
  "kernelspec": {
   "display_name": "Python 3",
   "language": "python",
   "name": "python3"
  },
  "language_info": {
   "codemirror_mode": {
    "name": "ipython",
    "version": 3
   },
   "file_extension": ".py",
   "mimetype": "text/x-python",
   "name": "python",
   "nbconvert_exporter": "python",
   "pygments_lexer": "ipython3",
   "version": "3.7.3"
  }
 },
 "nbformat": 4,
 "nbformat_minor": 2
}
