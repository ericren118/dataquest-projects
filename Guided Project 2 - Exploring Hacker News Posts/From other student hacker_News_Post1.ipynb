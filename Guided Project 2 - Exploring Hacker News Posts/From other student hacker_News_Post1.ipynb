{
 "cells": [
  {
   "cell_type": "markdown",
   "metadata": {},
   "source": [
    "Hacker News is a site started by the startup incubator Y Combinator, where user-submitted stories (known as \"posts\") are voted and commented upon, similar to reddit. Hacker News is extremely popular in technology and startup circles, and posts that make it to the top of Hacker News' listings can get hundreds of thousands of visitors as a result.\n",
    "\n",
    "You can find the data set [here](https://www.kaggle.com/hacker-news/hacker-news-posts), but note that it has been reduced from almost 300,000 rows to approximately 20,000 rows by removing all submissions that did not receive any comments, and then randomly sampling from the remaining submissions. Below are descriptions of the columns:\n",
    "\n",
    "**id:** The unique identifier from Hacker News for the post\n",
    "\n",
    "**title:** The title of the post\n",
    "\n",
    "**url:** The URL that the posts links to, if it the post has a URL\n",
    "\n",
    "**num_points:** The number of points the post acquired, calculated as the total number of upvotes minus the total number of downvotes\n",
    "\n",
    "**num_comments:** The number of comments that were made on the post\n",
    "\n",
    "**author:** The username of the person who submitted the post\n",
    "\n",
    "**created_at:** The date and time at which the post was submitted\n"
   ]
  },
  {
   "cell_type": "markdown",
   "metadata": {},
   "source": [
    "In this project, we’ll compare two different types of posts from [Hacker News](https://news.ycombinator.com), a popular site where technology related stories (or ‘posts’) are voted and commented upon. The two types of posts we’ll explore begin with either Ask HN or Show HN.\n",
    "\n",
    "Users submit Ask HN posts to ask the Hacker News community a specific question, such as “What is the best online course you’ve ever taken?” Likewise, users submit Show HN posts to show the Hacker News community a project, product, or just generally something interesting.\n",
    "\n",
    "We’ll specifically compare these two types of posts to determine the following:\n",
    "\n",
    ". Do Ask HN or Show HN receive more comments on average?\n",
    "\n",
    ". Do posts created at a certain time receive more comments on average?\n",
    "\n",
    "It should be noted that the data set we’re working with was reduced from almost 300,000 rows to approximately 20,000 rows by removing all submissions that did not receive any comments, and then randomly sampling from the remaining submissions.\n"
   ]
  },
  {
   "cell_type": "markdown",
   "metadata": {},
   "source": [
    "##  Introduction\n",
    "\n",
    "First, we’ll read in the data and remove the headers.\n"
   ]
  },
  {
   "cell_type": "code",
   "execution_count": 1,
   "metadata": {},
   "outputs": [],
   "source": [
    "from csv import reader\n",
    "opened_file = open('/Users/umesh/Downloads/HN_posts_year_to_Sep_20_2016.csv')\n",
    "read_file = reader(opened_file)\n",
    "hn = list(read_file)\n",
    "hn_header = hn[0]\n",
    "hn = hn[1:]\n"
   ]
  },
  {
   "cell_type": "code",
   "execution_count": 2,
   "metadata": {},
   "outputs": [
    {
     "name": "stdout",
     "output_type": "stream",
     "text": [
      "['id', 'title', 'url', 'num_points', 'num_comments', 'author', 'created_at']\n"
     ]
    }
   ],
   "source": [
    "print(hn_header)\n"
   ]
  },
  {
   "cell_type": "code",
   "execution_count": 3,
   "metadata": {},
   "outputs": [
    {
     "data": {
      "text/plain": [
       "[['12579008',\n",
       "  'You have two days to comment if you want stem cells to be classified as your own',\n",
       "  'http://www.regulations.gov/document?D=FDA-2015-D-3719-0018',\n",
       "  '1',\n",
       "  '0',\n",
       "  'altstar',\n",
       "  '9/26/2016 3:26'],\n",
       " ['12579005',\n",
       "  'SQLAR  the SQLite Archiver',\n",
       "  'https://www.sqlite.org/sqlar/doc/trunk/README.md',\n",
       "  '1',\n",
       "  '0',\n",
       "  'blacksqr',\n",
       "  '9/26/2016 3:24'],\n",
       " ['12578997',\n",
       "  'What if we just printed a flatscreen television on the side of our boxes?',\n",
       "  'https://medium.com/vanmoof/our-secrets-out-f21c1f03fdc8#.ietxmez43',\n",
       "  '1',\n",
       "  '0',\n",
       "  'pavel_lishin',\n",
       "  '9/26/2016 3:19'],\n",
       " ['12578989',\n",
       "  'algorithmic music',\n",
       "  'http://cacm.acm.org/magazines/2011/7/109891-algorithmic-composition/fulltext',\n",
       "  '1',\n",
       "  '0',\n",
       "  'poindontcare',\n",
       "  '9/26/2016 3:16'],\n",
       " ['12578979',\n",
       "  'How the Data Vault Enables the Next-Gen Data Warehouse and Data Lake',\n",
       "  'https://www.talend.com/blog/2016/05/12/talend-and-Â\\x93the-data-vaultÂ\\x94',\n",
       "  '1',\n",
       "  '0',\n",
       "  'markgainor1',\n",
       "  '9/26/2016 3:14']]"
      ]
     },
     "execution_count": 3,
     "metadata": {},
     "output_type": "execute_result"
    }
   ],
   "source": [
    "hn[0:5]"
   ]
  },
  {
   "cell_type": "markdown",
   "metadata": {},
   "source": [
    "We can see above that the data set contains the title of the posts, the number of comments for each post, and the date the post was created. Let’s start by exploring the number of comments for each type of post.\n"
   ]
  },
  {
   "cell_type": "markdown",
   "metadata": {},
   "source": [
    "##  Extracting Ask HN and Show HN Posts\n",
    "\n",
    "First, we’ll identify posts that begin with either Ask HN or Show HN and separate the data for those two types of posts into different lists. Separating the data makes it easier to analyze in the following steps.\n"
   ]
  },
  {
   "cell_type": "code",
   "execution_count": 4,
   "metadata": {},
   "outputs": [
    {
     "name": "stdout",
     "output_type": "stream",
     "text": [
      "9139\n",
      "10158\n",
      "273822\n",
      "293119\n"
     ]
    }
   ],
   "source": [
    "ask_posts = []\n",
    "show_posts = []\n",
    "other_posts = []\n",
    "for row in hn:\n",
    "    title = row[1]\n",
    "    if title.lower().startswith(\"ask hn\"):\n",
    "        ask_posts.append(row)\n",
    "    elif title.lower().startswith(\"show hn\"):\n",
    "        show_posts.append(row)\n",
    "    else:\n",
    "        other_posts.append(row)\n",
    "print(len(ask_posts))\n",
    "print(len(show_posts))\n",
    "print(len(other_posts))\n",
    "print(len(ask_posts + show_posts + other_posts))"
   ]
  },
  {
   "cell_type": "code",
   "execution_count": 5,
   "metadata": {},
   "outputs": [
    {
     "name": "stdout",
     "output_type": "stream",
     "text": [
      "[['12578908', 'Ask HN: What TLD do you use for local development?', '', '4', '7', 'Sevrene', '9/26/2016 2:53'], ['12578522', 'Ask HN: How do you pass on your work when you die?', '', '6', '3', 'PascLeRasc', '9/26/2016 1:17'], ['12577908', 'Ask HN: How a DNS problem can be limited to a geographic region?', '', '1', '0', 'kuon', '9/25/2016 22:57']]\n"
     ]
    }
   ],
   "source": [
    "print(ask_posts[:3])"
   ]
  },
  {
   "cell_type": "code",
   "execution_count": 6,
   "metadata": {},
   "outputs": [
    {
     "name": "stdout",
     "output_type": "stream",
     "text": [
      "[['12578335', 'Show HN: Finding puns computationally', 'http://puns.samueltaylor.org/', '2', '0', 'saamm', '9/26/2016 0:36'], ['12578182', 'Show HN: A simple library for complicated animations', 'https://christinecha.github.io/choreographer-js/', '1', '0', 'christinecha', '9/26/2016 0:01'], ['12578098', 'Show HN: WebGL visualization of DNA sequences', 'http://grondilu.github.io/dna.html', '1', '0', 'grondilu', '9/25/2016 23:44']]\n"
     ]
    }
   ],
   "source": [
    "print(show_posts[:3])"
   ]
  },
  {
   "cell_type": "code",
   "execution_count": 7,
   "metadata": {},
   "outputs": [
    {
     "name": "stdout",
     "output_type": "stream",
     "text": [
      "[['12579008', 'You have two days to comment if you want stem cells to be classified as your own', 'http://www.regulations.gov/document?D=FDA-2015-D-3719-0018', '1', '0', 'altstar', '9/26/2016 3:26'], ['12579005', 'SQLAR  the SQLite Archiver', 'https://www.sqlite.org/sqlar/doc/trunk/README.md', '1', '0', 'blacksqr', '9/26/2016 3:24'], ['12578997', 'What if we just printed a flatscreen television on the side of our boxes?', 'https://medium.com/vanmoof/our-secrets-out-f21c1f03fdc8#.ietxmez43', '1', '0', 'pavel_lishin', '9/26/2016 3:19']]\n"
     ]
    }
   ],
   "source": [
    "print(other_posts[:3])"
   ]
  },
  {
   "cell_type": "markdown",
   "metadata": {},
   "source": [
    "### Calculating the Average Number of Comments for Ask HN and Show HN Posts\n",
    "\n",
    "Now that we separated ask posts and show posts into different lists, we’ll calculate the average number of comments each type of post receives.\n"
   ]
  },
  {
   "cell_type": "code",
   "execution_count": 8,
   "metadata": {},
   "outputs": [
    {
     "name": "stdout",
     "output_type": "stream",
     "text": [
      "10.393478498741656\n",
      "94986\n"
     ]
    }
   ],
   "source": [
    "#Calculate the average number of comments `Ask HN` posts receive.\n",
    "total_ask_comments = 0\n",
    "for row in ask_posts:\n",
    "    total_ask_comments += int(row[4])\n",
    "avg_ask_comments = total_ask_comments / len(ask_posts)\n",
    "print(avg_ask_comments)\n",
    "print(total_ask_comments)"
   ]
  },
  {
   "cell_type": "code",
   "execution_count": 9,
   "metadata": {},
   "outputs": [
    {
     "name": "stdout",
     "output_type": "stream",
     "text": [
      "4.886099625910612\n",
      "49633\n"
     ]
    }
   ],
   "source": [
    "#Calculate the average number of comments `Ask HN` posts receive.\n",
    "\n",
    "total_show_comments = 0\n",
    "for row in show_posts:\n",
    "    total_show_comments += int(row[4])\n",
    "avg_show_comments = total_show_comments / len(show_posts)\n",
    "print(avg_show_comments)\n",
    "print(total_show_comments)"
   ]
  },
  {
   "cell_type": "markdown",
   "metadata": {},
   "source": [
    "==> On average, ask posts in our sample receive approximately 10 comments, whereas show posts receive approximately 5. Since ask posts are more likely to receive comments, we’ll focus our remaining analysis just on these posts.\n"
   ]
  },
  {
   "cell_type": "markdown",
   "metadata": {},
   "source": [
    "### Finding the Amount of Ask Posts and Comments by Hour Created\n",
    "\n",
    "Next, we'll determine if ask posts created at a certain time are more likely to attract comments. We'll use the following steps to perform this analysis:\n",
    "\n",
    ". Calculate the amount of ask posts created in each hour of the day, along with the number of comments received.\n",
    "\n",
    ". Calculate the average number of comments ask posts receive by hour created.\n"
   ]
  },
  {
   "cell_type": "code",
   "execution_count": 10,
   "metadata": {},
   "outputs": [
    {
     "data": {
      "text/plain": [
       "[('9/26/2016 2:53', 7),\n",
       " ('9/26/2016 1:17', 3),\n",
       " ('9/25/2016 22:57', 0),\n",
       " ('9/25/2016 22:48', 3),\n",
       " ('9/25/2016 21:50', 2),\n",
       " ('9/25/2016 19:30', 1),\n",
       " ('9/25/2016 19:22', 22),\n",
       " ('9/25/2016 17:55', 3),\n",
       " ('9/25/2016 15:48', 0),\n",
       " ('9/25/2016 15:35', 13)]"
      ]
     },
     "execution_count": 10,
     "metadata": {},
     "output_type": "execute_result"
    }
   ],
   "source": [
    "import datetime as dt\n",
    "result_list = []\n",
    "for row in ask_posts:\n",
    "    created_at = row[6]\n",
    "    num_comments = int(row[4])\n",
    "    result_list.append((created_at, num_comments))\n",
    "result_list[:10]  \n"
   ]
  },
  {
   "cell_type": "code",
   "execution_count": 11,
   "metadata": {},
   "outputs": [
    {
     "data": {
      "text/plain": [
       "9139"
      ]
     },
     "execution_count": 11,
     "metadata": {},
     "output_type": "execute_result"
    }
   ],
   "source": [
    "len(result_list)"
   ]
  },
  {
   "cell_type": "code",
   "execution_count": 12,
   "metadata": {},
   "outputs": [
    {
     "data": {
      "text/plain": [
       "[('9/6/2015 15:09', 0),\n",
       " ('9/6/2015 14:53', 6),\n",
       " ('9/6/2015 13:01', 9),\n",
       " ('9/6/2015 12:17', 0),\n",
       " ('9/6/2015 11:27', 0),\n",
       " ('9/6/2015 10:52', 1),\n",
       " ('9/6/2015 10:46', 4),\n",
       " ('9/6/2015 9:36', 20),\n",
       " ('9/6/2015 6:02', 20)]"
      ]
     },
     "execution_count": 12,
     "metadata": {},
     "output_type": "execute_result"
    }
   ],
   "source": [
    "result_list[9130:]"
   ]
  },
  {
   "cell_type": "code",
   "execution_count": 13,
   "metadata": {},
   "outputs": [],
   "source": [
    "#Create two empty dictionaries called counts_by_hour and comments_per_hour\n",
    "counts_by_hour = {}\n",
    "comments_per_hour = {}\n",
    "\n",
    "#Extract the hour from the date, which is the first element of the row.\n",
    "#Use the datetime.strptime() method to parse the date and create a datetime object.\n",
    "for row in result_list:\n",
    "    hour = row[0]\n",
    "\n",
    "#Use the string we want to parse as the first argument and a string that specifies the format as the second argument.\n",
    "#Use the datetime.strftime() method to select just the hour from the datetime object.\n",
    "\n",
    "#If the hour isn't a key in counts_by_hour:\n",
    "##Create the key in counts_by_hour and set it equal to 1.\n",
    "##Create the key in comments_by_hour and set it equal to the comment number.\n",
    "    date_str = dt.datetime.strptime(hour,\"%m/%d/%Y %H:%M\")\n",
    "    posts_created = date_str.strftime(\"%H\")\n",
    "\n",
    "    comments_created = row[1]\n",
    "    \n",
    "    if posts_created not in counts_by_hour:\n",
    "        counts_by_hour[posts_created] = 1\n",
    "        comments_per_hour[posts_created] = comments_created\n",
    "        \n",
    "\n",
    "#If the hour is already a key in counts_by_hour:\n",
    "##Increment the value in counts_by_hour by 1.\n",
    "##Increment the value in comments_by_hour by the comment number.\n",
    "    else:\n",
    "        counts_by_hour[posts_created] += 1\n",
    "        comments_per_hour[posts_created] += comments_created\n"
   ]
  },
  {
   "cell_type": "code",
   "execution_count": 14,
   "metadata": {},
   "outputs": [
    {
     "data": {
      "text/plain": [
       "{'02': 269,\n",
       " '01': 282,\n",
       " '22': 383,\n",
       " '21': 518,\n",
       " '19': 552,\n",
       " '17': 587,\n",
       " '15': 646,\n",
       " '14': 513,\n",
       " '13': 444,\n",
       " '11': 312,\n",
       " '10': 282,\n",
       " '09': 222,\n",
       " '07': 226,\n",
       " '03': 271,\n",
       " '23': 343,\n",
       " '20': 510,\n",
       " '16': 579,\n",
       " '08': 257,\n",
       " '00': 301,\n",
       " '18': 614,\n",
       " '12': 342,\n",
       " '04': 243,\n",
       " '06': 234,\n",
       " '05': 209}"
      ]
     },
     "execution_count": 14,
     "metadata": {},
     "output_type": "execute_result"
    }
   ],
   "source": [
    "counts_by_hour"
   ]
  },
  {
   "cell_type": "code",
   "execution_count": 15,
   "metadata": {},
   "outputs": [
    {
     "data": {
      "text/plain": [
       "{'02': 2996,\n",
       " '01': 2089,\n",
       " '22': 3372,\n",
       " '21': 4500,\n",
       " '19': 3954,\n",
       " '17': 5547,\n",
       " '15': 18525,\n",
       " '14': 4972,\n",
       " '13': 7245,\n",
       " '11': 2797,\n",
       " '10': 3013,\n",
       " '09': 1477,\n",
       " '07': 1585,\n",
       " '03': 2154,\n",
       " '23': 2297,\n",
       " '20': 4462,\n",
       " '16': 4466,\n",
       " '08': 2362,\n",
       " '00': 2277,\n",
       " '18': 4877,\n",
       " '12': 4234,\n",
       " '04': 2360,\n",
       " '06': 1587,\n",
       " '05': 1838}"
      ]
     },
     "execution_count": 15,
     "metadata": {},
     "output_type": "execute_result"
    }
   ],
   "source": [
    "comments_per_hour"
   ]
  },
  {
   "cell_type": "markdown",
   "metadata": {},
   "source": [
    "###    In the last screen, we created two dictionaries:\n",
    "\n",
    ". counts_by_hour: contains the number of ask posts created during each hour of the day.\n",
    "\n",
    ". comments_by_hour: contains the corresponding number of comments ask posts created at each hour received.\n",
    "\n",
    "Next, we'll use these two dictionaries to calculate the average number of comments for posts created during each hour of the day.\n",
    "\n"
   ]
  },
  {
   "cell_type": "code",
   "execution_count": 16,
   "metadata": {},
   "outputs": [
    {
     "data": {
      "text/plain": [
       "[['02', 11.137546468401487],\n",
       " ['01', 7.407801418439717],\n",
       " ['22', 8.804177545691905],\n",
       " ['21', 8.687258687258687],\n",
       " ['19', 7.163043478260869],\n",
       " ['17', 9.449744463373083],\n",
       " ['15', 28.676470588235293],\n",
       " ['14', 9.692007797270955],\n",
       " ['13', 16.31756756756757],\n",
       " ['11', 8.96474358974359],\n",
       " ['10', 10.684397163120567],\n",
       " ['09', 6.653153153153153],\n",
       " ['07', 7.013274336283186],\n",
       " ['03', 7.948339483394834],\n",
       " ['23', 6.696793002915452],\n",
       " ['20', 8.749019607843136],\n",
       " ['16', 7.713298791018998],\n",
       " ['08', 9.190661478599221],\n",
       " ['00', 7.5647840531561465],\n",
       " ['18', 7.94299674267101],\n",
       " ['12', 12.380116959064328],\n",
       " ['04', 9.7119341563786],\n",
       " ['06', 6.782051282051282],\n",
       " ['05', 8.794258373205741]]"
      ]
     },
     "execution_count": 16,
     "metadata": {},
     "output_type": "execute_result"
    }
   ],
   "source": [
    "#calculate the average number of comments per post for posts created during each hour of the day\n",
    "\n",
    "avg_by_hour = []\n",
    "for row in counts_by_hour:\n",
    "    average = comments_per_hour[row] / counts_by_hour[row]\n",
    "    avg_by_hour.append([row, average])\n",
    "avg_by_hour    \n",
    "    "
   ]
  },
  {
   "cell_type": "markdown",
   "metadata": {},
   "source": [
    "Although we now have the results we need, this format makes it hard to identify the hours with the highest values. Let's finish by sorting the list of lists and printing the five highest values in a format that's easier to read.\n",
    "\n"
   ]
  },
  {
   "cell_type": "markdown",
   "metadata": {},
   "source": [
    "1. Create a list that equals avg_by_hour with swapped columns.\n",
    "> Create an empty list and assign it to swap_avg_by_hour.\n",
    "> Iterate over the rows of avg_by_hour and append to swap_avg_by_hour a list whose first element is the second element of the row, and whose second element is the first element of the row.\n",
    "\n",
    "2. Print swap_avg_by_hour.\n",
    "\n",
    "3. Use the sorted() function to sort swap_avg_by_hour in descending order. Since the first column of this list is the average number of comments, sorting the list will sort by the average number of comments.\n",
    ". Set the reverse argument to True, so that the highest value in the first column appears first in the list.\n",
    ". Assign the result to sorted_swap.\n",
    "\n",
    "4. Print the string \"Top 5 Hours for Ask Posts Comments\".\n",
    "\n",
    "5. Loop through each average and each hour (in this order) in the first five lists of sorted_swap.\n",
    "\n",
    "6. Use the str.format() method to print the hour and average in the following format: 15:00: 38.59 average comments per post.\n",
    "> To format the hours, use the datetime.strptime() constructor to return a datetime object and then use the strftime() method to specify the format of the time.\n",
    "> To format the average, you can use {:.2f} to indicate that just two decimal places should be used.\n"
   ]
  },
  {
   "cell_type": "code",
   "execution_count": 17,
   "metadata": {},
   "outputs": [
    {
     "data": {
      "text/plain": [
       "[[11.137546468401487, '02'],\n",
       " [7.407801418439717, '01'],\n",
       " [8.804177545691905, '22'],\n",
       " [8.687258687258687, '21'],\n",
       " [7.163043478260869, '19'],\n",
       " [9.449744463373083, '17'],\n",
       " [28.676470588235293, '15'],\n",
       " [9.692007797270955, '14'],\n",
       " [16.31756756756757, '13'],\n",
       " [8.96474358974359, '11'],\n",
       " [10.684397163120567, '10'],\n",
       " [6.653153153153153, '09'],\n",
       " [7.013274336283186, '07'],\n",
       " [7.948339483394834, '03'],\n",
       " [6.696793002915452, '23'],\n",
       " [8.749019607843136, '20'],\n",
       " [7.713298791018998, '16'],\n",
       " [9.190661478599221, '08'],\n",
       " [7.5647840531561465, '00'],\n",
       " [7.94299674267101, '18'],\n",
       " [12.380116959064328, '12'],\n",
       " [9.7119341563786, '04'],\n",
       " [6.782051282051282, '06'],\n",
       " [8.794258373205741, '05']]"
      ]
     },
     "execution_count": 17,
     "metadata": {},
     "output_type": "execute_result"
    }
   ],
   "source": [
    "#Create a list that equals avg_by_hour with swapped columns\n",
    "swap_avg_by_hour = []\n",
    "for row in avg_by_hour:\n",
    "    swap_avg_by_hour.append([row[1], row[0]])\n",
    "swap_avg_by_hour    "
   ]
  },
  {
   "cell_type": "code",
   "execution_count": 18,
   "metadata": {},
   "outputs": [
    {
     "data": {
      "text/plain": [
       "[[28.676470588235293, '15'],\n",
       " [16.31756756756757, '13'],\n",
       " [12.380116959064328, '12'],\n",
       " [11.137546468401487, '02'],\n",
       " [10.684397163120567, '10'],\n",
       " [9.7119341563786, '04'],\n",
       " [9.692007797270955, '14'],\n",
       " [9.449744463373083, '17'],\n",
       " [9.190661478599221, '08'],\n",
       " [8.96474358974359, '11'],\n",
       " [8.804177545691905, '22'],\n",
       " [8.794258373205741, '05'],\n",
       " [8.749019607843136, '20'],\n",
       " [8.687258687258687, '21'],\n",
       " [7.948339483394834, '03'],\n",
       " [7.94299674267101, '18'],\n",
       " [7.713298791018998, '16'],\n",
       " [7.5647840531561465, '00'],\n",
       " [7.407801418439717, '01'],\n",
       " [7.163043478260869, '19'],\n",
       " [7.013274336283186, '07'],\n",
       " [6.782051282051282, '06'],\n",
       " [6.696793002915452, '23'],\n",
       " [6.653153153153153, '09']]"
      ]
     },
     "execution_count": 18,
     "metadata": {},
     "output_type": "execute_result"
    }
   ],
   "source": [
    "#Use the sorted() function to sort swap_avg_by_hour in descending order\n",
    "sorted_swap = sorted(swap_avg_by_hour, reverse=True)\n",
    "sorted_swap\n"
   ]
  },
  {
   "cell_type": "code",
   "execution_count": 19,
   "metadata": {},
   "outputs": [
    {
     "name": "stdout",
     "output_type": "stream",
     "text": [
      "Top 5 Hours for Ask Posts Comments\n"
     ]
    }
   ],
   "source": [
    "print(\"Top 5 Hours for Ask Posts Comments\")\n"
   ]
  },
  {
   "cell_type": "code",
   "execution_count": 20,
   "metadata": {},
   "outputs": [
    {
     "name": "stdout",
     "output_type": "stream",
     "text": [
      "15:00 > 28.68 average comments per hour\n",
      "13:00 > 16.32 average comments per hour\n",
      "12:00 > 12.38 average comments per hour\n",
      "02:00 > 11.14 average comments per hour\n",
      "10:00 > 10.68 average comments per hour\n"
     ]
    }
   ],
   "source": [
    "#Use the str.format() method to print the hour and average\n",
    "#use the datetime.strptime() constructor to return a datetime object \n",
    "#use the strftime() method to specify the format of the time.\n",
    "#use {:.2f} to indicate that just two decimal places should be used\n",
    "for each in sorted_swap[0:5]:\n",
    "    hour = dt.datetime.strptime(each[1],\"%H\")\n",
    "    hour = hour.strftime(\"%H:%M\")\n",
    "    a = str.format(\"{hour} > {comments:.2f} average comments per hour\", hour = hour, comments = (each[0]))\n",
    "    print(a)\n",
    "    \n"
   ]
  },
  {
   "cell_type": "markdown",
   "metadata": {},
   "source": [
    "### Finding the Amount of Show Posts and Comments by Hour Created\n"
   ]
  },
  {
   "cell_type": "code",
   "execution_count": 33,
   "metadata": {},
   "outputs": [
    {
     "data": {
      "text/plain": [
       "[('9/26/2016 0:36', 0),\n",
       " ('9/26/2016 0:01', 0),\n",
       " ('9/25/2016 23:44', 0),\n",
       " ('9/25/2016 23:17', 0),\n",
       " ('9/25/2016 20:06', 1),\n",
       " ('9/25/2016 19:06', 1),\n",
       " ('9/25/2016 18:32', 0),\n",
       " ('9/25/2016 16:50', 1),\n",
       " ('9/25/2016 16:43', 0),\n",
       " ('9/25/2016 14:30', 1)]"
      ]
     },
     "execution_count": 33,
     "metadata": {},
     "output_type": "execute_result"
    }
   ],
   "source": [
    "import datetime as dt\n",
    "result_list1 = []\n",
    "for row in show_posts:\n",
    "    created_at1 = row[6]\n",
    "    num_comments1 = int(row[4])\n",
    "    result_list1.append((created_at1, num_comments1))\n",
    "result_list1[:10]\n"
   ]
  },
  {
   "cell_type": "code",
   "execution_count": 34,
   "metadata": {},
   "outputs": [
    {
     "data": {
      "text/plain": [
       "[('9/6/2015 18:05', 0),\n",
       " ('9/6/2015 15:41', 0),\n",
       " ('9/6/2015 15:25', 0),\n",
       " ('9/6/2015 14:21', 0),\n",
       " ('9/6/2015 13:50', 2),\n",
       " ('9/6/2015 13:02', 6),\n",
       " ('9/6/2015 12:38', 4),\n",
       " ('9/6/2015 12:16', 1)]"
      ]
     },
     "execution_count": 34,
     "metadata": {},
     "output_type": "execute_result"
    }
   ],
   "source": [
    "result_list1[10150:]"
   ]
  },
  {
   "cell_type": "code",
   "execution_count": 38,
   "metadata": {},
   "outputs": [],
   "source": [
    "counts_by_hour1 = {}\n",
    "comments_by_hour1 = {}\n",
    "\n",
    "for row in result_list1:\n",
    "    hour1 = row[0]\n",
    "    dt_str1 = dt.datetime.strptime(hour1, \"%m/%d/%Y %H:%M\")\n",
    "    post_created1 = dt_str1.strftime(\"%H\")\n",
    "    comments_created1 = row[1]\n",
    "    if post_created1 not in counts_by_hour1:\n",
    "        counts_by_hour1[post_created1] = 1\n",
    "        comments_by_hour1[post_created1] = comments_created1\n",
    "    else:\n",
    "        counts_by_hour1[post_created1] += 1\n",
    "        comments_by_hour1[post_created1] += comments_created1\n",
    "        "
   ]
  },
  {
   "cell_type": "code",
   "execution_count": 39,
   "metadata": {},
   "outputs": [
    {
     "data": {
      "text/plain": [
       "{'00': 276,\n",
       " '23': 319,\n",
       " '20': 525,\n",
       " '19': 556,\n",
       " '18': 656,\n",
       " '16': 801,\n",
       " '14': 696,\n",
       " '10': 323,\n",
       " '09': 302,\n",
       " '08': 316,\n",
       " '06': 192,\n",
       " '03': 206,\n",
       " '21': 430,\n",
       " '17': 761,\n",
       " '15': 836,\n",
       " '11': 402,\n",
       " '07': 236,\n",
       " '04': 194,\n",
       " '13': 610,\n",
       " '12': 516,\n",
       " '01': 247,\n",
       " '22': 377,\n",
       " '02': 209,\n",
       " '05': 172}"
      ]
     },
     "execution_count": 39,
     "metadata": {},
     "output_type": "execute_result"
    }
   ],
   "source": [
    "counts_by_hour1"
   ]
  },
  {
   "cell_type": "code",
   "execution_count": 40,
   "metadata": {},
   "outputs": [
    {
     "data": {
      "text/plain": [
       "{'00': 1283,\n",
       " '23': 1444,\n",
       " '20': 2183,\n",
       " '19': 2791,\n",
       " '18': 3242,\n",
       " '16': 3769,\n",
       " '14': 3839,\n",
       " '10': 1228,\n",
       " '09': 1411,\n",
       " '08': 1771,\n",
       " '06': 904,\n",
       " '03': 934,\n",
       " '21': 1759,\n",
       " '17': 3236,\n",
       " '15': 3824,\n",
       " '11': 2413,\n",
       " '07': 1577,\n",
       " '04': 978,\n",
       " '13': 3314,\n",
       " '12': 3609,\n",
       " '01': 1006,\n",
       " '22': 1450,\n",
       " '02': 1076,\n",
       " '05': 592}"
      ]
     },
     "execution_count": 40,
     "metadata": {},
     "output_type": "execute_result"
    }
   ],
   "source": [
    "comments_by_hour1"
   ]
  },
  {
   "cell_type": "code",
   "execution_count": 41,
   "metadata": {},
   "outputs": [
    {
     "data": {
      "text/plain": [
       "[['00', 4.648550724637682],\n",
       " ['23', 4.5266457680250785],\n",
       " ['20', 4.158095238095238],\n",
       " ['19', 5.01978417266187],\n",
       " ['18', 4.942073170731708],\n",
       " ['16', 4.705368289637953],\n",
       " ['14', 5.515804597701149],\n",
       " ['10', 3.801857585139319],\n",
       " ['09', 4.672185430463577],\n",
       " ['08', 5.6044303797468356],\n",
       " ['06', 4.708333333333333],\n",
       " ['03', 4.533980582524272],\n",
       " ['21', 4.090697674418605],\n",
       " ['17', 4.252299605781866],\n",
       " ['15', 4.574162679425838],\n",
       " ['11', 6.002487562189055],\n",
       " ['07', 6.682203389830509],\n",
       " ['04', 5.041237113402062],\n",
       " ['13', 5.432786885245902],\n",
       " ['12', 6.994186046511628],\n",
       " ['01', 4.0728744939271255],\n",
       " ['22', 3.8461538461538463],\n",
       " ['02', 5.148325358851674],\n",
       " ['05', 3.441860465116279]]"
      ]
     },
     "execution_count": 41,
     "metadata": {},
     "output_type": "execute_result"
    }
   ],
   "source": [
    "avg_by_hour1 = []\n",
    "for row in counts_by_hour1:\n",
    "    average1 = comments_by_hour1[row] / counts_by_hour1[row]\n",
    "    avg_by_hour1.append([row, average1])\n",
    "avg_by_hour1    "
   ]
  },
  {
   "cell_type": "code",
   "execution_count": 43,
   "metadata": {},
   "outputs": [
    {
     "data": {
      "text/plain": [
       "[[4.648550724637682, '00'],\n",
       " [4.5266457680250785, '23'],\n",
       " [4.158095238095238, '20'],\n",
       " [5.01978417266187, '19'],\n",
       " [4.942073170731708, '18'],\n",
       " [4.705368289637953, '16'],\n",
       " [5.515804597701149, '14'],\n",
       " [3.801857585139319, '10'],\n",
       " [4.672185430463577, '09'],\n",
       " [5.6044303797468356, '08'],\n",
       " [4.708333333333333, '06'],\n",
       " [4.533980582524272, '03'],\n",
       " [4.090697674418605, '21'],\n",
       " [4.252299605781866, '17'],\n",
       " [4.574162679425838, '15'],\n",
       " [6.002487562189055, '11'],\n",
       " [6.682203389830509, '07'],\n",
       " [5.041237113402062, '04'],\n",
       " [5.432786885245902, '13'],\n",
       " [6.994186046511628, '12'],\n",
       " [4.0728744939271255, '01'],\n",
       " [3.8461538461538463, '22'],\n",
       " [5.148325358851674, '02'],\n",
       " [3.441860465116279, '05']]"
      ]
     },
     "execution_count": 43,
     "metadata": {},
     "output_type": "execute_result"
    }
   ],
   "source": [
    "swap_avg_by_hour1 = []\n",
    "for row in avg_by_hour1:\n",
    "    swap_avg_by_hour1.append([row[1], row[0]])\n",
    "swap_avg_by_hour1    "
   ]
  },
  {
   "cell_type": "code",
   "execution_count": 44,
   "metadata": {},
   "outputs": [],
   "source": [
    "sorted_swap = sorted(swap_avg_by_hour1, reverse = True)"
   ]
  },
  {
   "cell_type": "code",
   "execution_count": 45,
   "metadata": {},
   "outputs": [
    {
     "name": "stdout",
     "output_type": "stream",
     "text": [
      "Top 5 Hours for Ask Posts Comments\n"
     ]
    }
   ],
   "source": [
    "print(\"Top 5 Hours for Ask Posts Comments\")\n"
   ]
  },
  {
   "cell_type": "code",
   "execution_count": 46,
   "metadata": {},
   "outputs": [
    {
     "name": "stdout",
     "output_type": "stream",
     "text": [
      "12:00: 6.99 average comments per hour\n",
      "07:00: 6.68 average comments per hour\n",
      "11:00: 6.00 average comments per hour\n",
      "08:00: 5.60 average comments per hour\n",
      "14:00: 5.52 average comments per hour\n"
     ]
    }
   ],
   "source": [
    "for each in sorted_swap[0:5]:\n",
    "    hour1 = dt.datetime.strptime(each[1],\"%H\")\n",
    "    hour1 = hour1.strftime(\"%H:%M\")\n",
    "    b = str.format(\"{hour}: {comments:.2f} average comments per hour\", hour = hour1, comments = (each[0]))\n",
    "    print(b)\n",
    "    "
   ]
  },
  {
   "cell_type": "code",
   "execution_count": null,
   "metadata": {},
   "outputs": [],
   "source": []
  }
 ],
 "metadata": {
  "kernelspec": {
   "display_name": "Python 3",
   "language": "python",
   "name": "python3"
  },
  "language_info": {
   "codemirror_mode": {
    "name": "ipython",
    "version": 3
   },
   "file_extension": ".py",
   "mimetype": "text/x-python",
   "name": "python",
   "nbconvert_exporter": "python",
   "pygments_lexer": "ipython3",
   "version": "3.7.3"
  }
 },
 "nbformat": 4,
 "nbformat_minor": 2
}
